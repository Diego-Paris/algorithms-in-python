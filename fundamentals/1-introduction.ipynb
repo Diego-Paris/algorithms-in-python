{
 "cells": [
  {
   "cell_type": "markdown",
   "metadata": {},
   "source": [
    "# Algorithms in Python\n",
    "\n",
    "The purpose of this repository is keep track of my progress learning Python.  \n",
    "\n",
    "My goal is to use Python as a tool to refresh my Computer Science fundamentals, learn more advanced topics and use Python efficiently during coding interviews.\n",
    "\n",
    "---\n",
    "  \n",
    "### Primary learning resources\n",
    "\n",
    "- [The Python Tutorial (Official Docs)](https://docs.python.org/3/tutorial/index.html).\n",
    "- [W3schools (Python Tutorial)](https://www.w3schools.com/python/default.asp)\n",
    "- [Udacity (Intro to Data Structures and Algorithms course by Grow with Google)](https://www.udacity.com/course/data-structures-and-algorithms-in-python--ud513)\n",
    "- [Python Time Complexity (Official Docs)](https://wiki.python.org/moin/TimeComplexity)\n",
    "- [Big-O Cheat Sheet](https://www.bigocheatsheet.com/)\n",
    "\n",
    "*Note: Will add more learning resources once I feel comfortable with the first three.\n",
    "\n",
    "---"
   ]
  },
  {
   "cell_type": "code",
   "execution_count": 1,
   "metadata": {},
   "outputs": [
    {
     "name": "stdout",
     "output_type": "stream",
     "text": [
      "Hello, World!\n"
     ]
    }
   ],
   "source": [
    "print(\"Hello, World!\")"
   ]
  }
 ],
 "metadata": {
  "interpreter": {
   "hash": "2be5faf79681da6f2a61fdfdd5405d65d042280f7fba6178067603e3a2925119"
  },
  "kernelspec": {
   "display_name": "Python 3.10.0 64-bit",
   "language": "python",
   "name": "python3"
  },
  "language_info": {
   "codemirror_mode": {
    "name": "ipython",
    "version": 3
   },
   "file_extension": ".py",
   "mimetype": "text/x-python",
   "name": "python",
   "nbconvert_exporter": "python",
   "pygments_lexer": "ipython3",
   "version": "3.10.0"
  },
  "orig_nbformat": 4
 },
 "nbformat": 4,
 "nbformat_minor": 2
}
