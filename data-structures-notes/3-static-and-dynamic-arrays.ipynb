{
 "cells": [
  {
   "cell_type": "markdown",
   "metadata": {},
   "source": [
    "# Static and Dynamic Arrays\n",
    "\n",
    "---"
   ]
  },
  {
   "cell_type": "markdown",
   "metadata": {},
   "source": [
    "## Outline\n",
    "\n",
    "- Discussion and examples about arrays\n",
    "- What is an array?\n",
    "- When and where is an array used?\n",
    "- Complexity\n",
    "- Static array usage example\n",
    "- Dynamic Array Implementation details\n",
    "- Code is under data-structures folder\n",
    "\n",
    "### Discussion and Examples\n",
    "\n",
    "#### What is a static array?\n",
    "- A fixed length container containing n elements\n",
    "- Indexable from the range [0, n-1]\n",
    "\n",
    "> What is indexable? Each slot is referenced by a number\n",
    "\n",
    "#### When and where is a static array used?\n",
    "- Storing and accessing sequential data\n",
    "- Temporirly storing objects\n",
    "- Used by IO routines as buffers\n",
    "- Lookup tables and inverse lookup tables\n",
    "- Can be used to return multiple values from a function\n",
    "- Used in dynamic programming to cache answers to subproblems\n",
    "\n",
    "#### Complexity\n",
    "\n",
    "|           | Static Array | Dynamic Array |\n",
    "|-----------|--------------|---------------|\n",
    "| Access    | O(1)         | O(1)          |\n",
    "| Search    | O(n)         | O(n)          |\n",
    "| Insertion | N/A          | O(n)          |\n",
    "| Appending | N/A          | O(1)          |\n",
    "| Deletion  | N/A          | O(n)          |\n",
    "\n",
    "> Appending is O(1) because we expand the underlying array and directly insert the element without reassigning elements. Absolute worst case is when we have to resize. But it is so rare we can consider it as constant time.\n",
    "\n",
    "### Dynamic arrays\n",
    "\n",
    "Can shrink and grow in size as needed\n",
    "\n",
    "#### How can we implement a dynamic array?\n",
    "- One approach is using a static array!!\n",
    "\n",
    "1. Create a static array with an initial capacity\n",
    "2. Add elements to the underlying array, keep track of total number of elements\n",
    "3. If add another element will exceed the capacity, then create a new static array and copy the original elements to it."
   ]
  }
 ],
 "metadata": {
  "language_info": {
   "name": "python"
  },
  "orig_nbformat": 4
 },
 "nbformat": 4,
 "nbformat_minor": 2
}
