{
 "cells": [
  {
   "cell_type": "markdown",
   "metadata": {},
   "source": [
    "# Abstract Data types\n",
    "\n",
    "---"
   ]
  },
  {
   "cell_type": "markdown",
   "metadata": {},
   "source": [
    "### What is a data structure?\n",
    "\n",
    "A data structure is a way of organizing data so that it can be used effectively.\n",
    "\n",
    "### Why data structures?\n",
    "\n",
    "- They are essential to creating fast and efficient algorithms\n",
    "- They help manage and organize data\n",
    "- They make code cleaner and easier to understand\n",
    "\n",
    "> The ones who excel are the ones who know how to best utilize data structures under the right circumstances\n",
    "\n",
    "## Abstract Data Types vs. Data Structures\n",
    "\n",
    "- An abstract data type (ADT) is an abstraction of a data structure.\n",
    "- It only provides the interface that the data structure must follow.\n",
    "- The interface does not give any specific details on how it must be implemented.\n",
    "\n",
    "#### Examples\n",
    "Here are some examples on different abstract data types and possible underlying implementations.\n",
    "\n",
    "| Abstraction (ADT) | Implementation (DS)            |\n",
    "|-------------------|--------------------------------|\n",
    "| List              | Dynamic Array *or* Linked List      |\n",
    "| Queue             | Linked List *or* Array *or* Stack        |\n",
    "| Map               | Tree Map *or* Hash Map / Hash Table |\n",
    "| Vehicle           | Golf Cart *or* Bicycle  *or* Smart Car    |\n"
   ]
  }
 ],
 "metadata": {
  "language_info": {
   "name": "python"
  },
  "orig_nbformat": 4
 },
 "nbformat": 4,
 "nbformat_minor": 2
}
