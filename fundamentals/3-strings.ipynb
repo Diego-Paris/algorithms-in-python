{
 "cells": [
  {
   "cell_type": "markdown",
   "metadata": {},
   "source": [
    "# Strings\n",
    "\n",
    "Strings in python are surrounded by single quotes or double quotes.  \n",
    "\\ can be used to escape quotes and other characters.\n",
    "\n",
    "---"
   ]
  },
  {
   "cell_type": "markdown",
   "metadata": {},
   "source": [
    "### Quotes\n",
    "\n",
    "Strings can be surrounded by single quotes or double quotes.\n",
    "\n",
    "An [excerpt](https://www.python.org/dev/peps/pep-0008/#string-quotes) from python.org on which quotes to use .  \n",
    "\n",
    "\"In Python, single-quoted strings and double-quoted strings are the same. This PEP does not make a recommendation for this. Pick a rule and stick to it. When a string contains single or double quote characters, however, use the other one to avoid backslashes in the string. It improves readability.\n",
    "\n",
    "For triple-quoted strings, always use double quote characters to be consistent with the docstring convention in PEP 257.\"\n"
   ]
  },
  {
   "cell_type": "code",
   "execution_count": 1,
   "metadata": {},
   "outputs": [
    {
     "name": "stdout",
     "output_type": "stream",
     "text": [
      "Hello\n",
      "Hello\n"
     ]
    }
   ],
   "source": [
    "print(\"Hello\")\n",
    "print('Hello')"
   ]
  },
  {
   "cell_type": "markdown",
   "metadata": {},
   "source": [
    "---\n",
    "\n",
    "### Multiline strings\n",
    "\n",
    "You can use three double quotes or single quotes. Both are equal."
   ]
  },
  {
   "cell_type": "code",
   "execution_count": 5,
   "metadata": {},
   "outputs": [
    {
     "name": "stdout",
     "output_type": "stream",
     "text": [
      "Lorem ipsum dolor sit amet,\n",
      "consectetur adipiscing elit,\n",
      "sed do eiusmod tempor incididunt\n",
      "ut labore et dolore magna aliqua. \n",
      "\n",
      "Lorem ipsum dolor sit amet,\n",
      "consectetur adipiscing elit,\n",
      "sed do eiusmod tempor incididunt\n",
      "ut labore et dolore magna aliqua.\n"
     ]
    }
   ],
   "source": [
    "a = \"\"\"Lorem ipsum dolor sit amet,\n",
    "consectetur adipiscing elit,\n",
    "sed do eiusmod tempor incididunt\n",
    "ut labore et dolore magna aliqua.\"\"\"\n",
    "\n",
    "b = '''Lorem ipsum dolor sit amet,\n",
    "consectetur adipiscing elit,\n",
    "sed do eiusmod tempor incididunt\n",
    "ut labore et dolore magna aliqua.'''\n",
    "print(a, \"\\n\")\n",
    "print(b)"
   ]
  },
  {
   "cell_type": "markdown",
   "metadata": {},
   "source": [
    "---\n",
    "\n",
    "### Strings are Arrays & Character Arrays\n",
    "\n",
    "Strings in Python are arrays of bytes representing unicode characters.  \n",
    "\n",
    "There is no character type, character types are strings with length 1.  \n",
    "\n",
    "Splitting into character arrays is very useful"
   ]
  },
  {
   "cell_type": "code",
   "execution_count": 14,
   "metadata": {},
   "outputs": [
    {
     "name": "stdout",
     "output_type": "stream",
     "text": [
      "m\n",
      "['A', 'm', 'a', 'z', 'i', 'n', 'g', '!']\n",
      "Amazing!\n"
     ]
    }
   ],
   "source": [
    "word = \"Amazing!\"\n",
    "letter = word[1]\n",
    "print(letter)\n",
    "\n",
    "# Want a char array?\n",
    "# pass the string into list()\n",
    "charArray = list(word)\n",
    "print(charArray)\n",
    "\n",
    "# Want to join a char array into a new string?\n",
    "# Call join on an empty string, and pass the char array\n",
    "reformed = \"\".join(charArray)\n",
    "print(reformed)"
   ]
  },
  {
   "cell_type": "markdown",
   "metadata": {},
   "source": [
    "---\n",
    "\n",
    "### Looping through a String\n",
    "\n",
    "Strings are arrays, therefore you can loop through characters in a string."
   ]
  },
  {
   "cell_type": "code",
   "execution_count": 15,
   "metadata": {},
   "outputs": [
    {
     "name": "stdout",
     "output_type": "stream",
     "text": [
      "L\n",
      "i\n",
      "k\n",
      "e\n",
      " \n",
      "a\n",
      " \n",
      "B\n",
      "a\n",
      "n\n",
      "t\n",
      "h\n",
      "a\n"
     ]
    }
   ],
   "source": [
    "statement = \"Like a Bantha\"\n",
    "\n",
    "for x in statement:\n",
    "    print(x)"
   ]
  },
  {
   "cell_type": "markdown",
   "metadata": {},
   "source": [
    "---\n",
    "\n",
    "### String Length\n",
    "\n",
    "Use len() to get the length "
   ]
  },
  {
   "cell_type": "code",
   "execution_count": 16,
   "metadata": {},
   "outputs": [
    {
     "name": "stdout",
     "output_type": "stream",
     "text": [
      "13\n"
     ]
    }
   ],
   "source": [
    "statement = \"Like a Bantha\"\n",
    "print(len(statement))"
   ]
  },
  {
   "cell_type": "markdown",
   "metadata": {},
   "source": [
    "---\n",
    "\n",
    "### Check in a string\n",
    "\n",
    "To check if a certain phrase or character is present in a string, we can use the keyword in."
   ]
  },
  {
   "cell_type": "code",
   "execution_count": 19,
   "metadata": {},
   "outputs": [
    {
     "name": "stdout",
     "output_type": "stream",
     "text": [
      "True\n",
      "WE FOUND A BANTHA\n",
      "What is the Bantha for?\n"
     ]
    }
   ],
   "source": [
    "txt = \"Like a Bantha\"\n",
    "\n",
    "print(\"Bantha\" in txt)\n",
    "\n",
    "### Using an if statement\n",
    "\n",
    "if \"Bantha\" in txt:\n",
    "    print(\"WE FOUND A BANTHA\")\n",
    "\n",
    "if \"Tusken\" not in txt:\n",
    "    print(\"What is the Bantha for?\")"
   ]
  },
  {
   "cell_type": "markdown",
   "metadata": {},
   "source": [
    "---\n",
    "\n",
    "### Slicing strings\n",
    "\n",
    "You can get a range of characters from another string using slices"
   ]
  },
  {
   "cell_type": "code",
   "execution_count": 23,
   "metadata": {},
   "outputs": [
    {
     "name": "stdout",
     "output_type": "stream",
     "text": [
      "llo\n",
      "Hello\n",
      "llo, World!\n",
      "Hello, World!\n",
      "!dlroW ,olleH\n"
     ]
    }
   ],
   "source": [
    "b = \"Hello, World!\"\n",
    "print(b[2:5]) # 2 to 5 not included\n",
    "\n",
    "print(b[:5]) # upto 5 not included\n",
    "\n",
    "print(b[2:]) # from 2 until end\n",
    "\n",
    "print(b[:]) # makes a copy\n",
    "\n",
    "print(b[::-1]) # reverses, modifies the steps, previous rules applies"
   ]
  },
  {
   "cell_type": "markdown",
   "metadata": {},
   "source": [
    "---\n",
    "\n",
    "### String concatenation\n",
    "\n",
    "To concatenate, or combine, two strings you can use the + operator."
   ]
  },
  {
   "cell_type": "code",
   "execution_count": 25,
   "metadata": {},
   "outputs": [
    {
     "name": "stdout",
     "output_type": "stream",
     "text": [
      "Hello World\n"
     ]
    }
   ],
   "source": [
    "a = \"Hello\"\n",
    "b = \"World\"\n",
    "c = a + \" \" + b\n",
    "print(c)"
   ]
  }
 ],
 "metadata": {
  "interpreter": {
   "hash": "2be5faf79681da6f2a61fdfdd5405d65d042280f7fba6178067603e3a2925119"
  },
  "kernelspec": {
   "display_name": "Python 3.10.0 64-bit",
   "language": "python",
   "name": "python3"
  },
  "language_info": {
   "codemirror_mode": {
    "name": "ipython",
    "version": 3
   },
   "file_extension": ".py",
   "mimetype": "text/x-python",
   "name": "python",
   "nbconvert_exporter": "python",
   "pygments_lexer": "ipython3",
   "version": "3.10.0"
  },
  "orig_nbformat": 4
 },
 "nbformat": 4,
 "nbformat_minor": 2
}
