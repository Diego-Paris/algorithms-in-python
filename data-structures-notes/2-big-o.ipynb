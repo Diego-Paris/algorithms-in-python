{
 "cells": [
  {
   "cell_type": "markdown",
   "metadata": {},
   "source": [
    "# Computational Complexity Analysis (Big O)\n",
    "\n",
    "https://www.bigocheatsheet.com\n",
    "\n",
    "---"
   ]
  },
  {
   "cell_type": "markdown",
   "metadata": {},
   "source": [
    "### Complexity Analysis\n",
    "\n",
    "Two most important questions as a programmer:\n",
    "1. How much time does this algorithm needs to finish?\n",
    "2. How much space does this algorithm need for computation?\n",
    "\n",
    "### Big-O Notation\n",
    "\n",
    "- Big-O notation gives an upper bound of the complexity in the worst case.\n",
    "- Helps quantify the performance as the input becomes arbitrarily large.\n",
    "\n",
    "#### Big O Notation from best to worst complexities\n",
    "\n",
    "- Constant Time: O(1)\n",
    "- Logarithmic Time: O(log n)\n",
    "- Linear Time: O(n)\n",
    "- Linearithmic Time: O(nlog(n))\n",
    "- Quadric Time: O(n^2)\n",
    "- Cubic Time: O(n^3)\n",
    "- Exponential Time: O(b^n), b > 1\n",
    "- Factorial Time: O(n!)\n",
    "\n",
    "### Big O Properties\n",
    "\n",
    "- We can ignore constants\n",
    "- The biggest most dominant term is the is the overall complexity of the function i.e. n^2 + n^3 = O(n^3)\n",
    "\n",
    "### Big O Examples\n",
    "\n",
    "- Find all subsets of a set - O(2^n)\n",
    "- Finding all permutation of a string - O(n!)\n",
    "- Sorting using mergesort - O(nlog(n))\n",
    "- Iterate over all cells in a n by m matrix - O(nm)"
   ]
  }
 ],
 "metadata": {
  "language_info": {
   "name": "python"
  },
  "orig_nbformat": 4
 },
 "nbformat": 4,
 "nbformat_minor": 2
}
