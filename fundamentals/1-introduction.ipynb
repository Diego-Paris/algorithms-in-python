{
 "cells": [
  {
   "cell_type": "markdown",
   "metadata": {},
   "source": [
    "# Algorithms in Python\n",
    "\n",
    "The purpose of this repository is keep track of my progress learning Python.  \n",
    "\n",
    "My goal is to use Python as a tool to refresh my Computer Science fundamentals, learn more advanced topics and use Python efficiently during coding interviews.\n",
    "\n",
    "---\n",
    "  \n",
    "### Primary learning resources\n",
    "\n",
    "- [The Python Tutorial (Official Docs)](https://docs.python.org/3/tutorial/index.html).\n",
    "- [W3schools (Python Tutorial)](https://www.w3schools.com/python/default.asp)\n",
    "- [Udacity (Intro to Data Structures and Algorithms course by Grow with Google)](https://www.udacity.com/course/data-structures-and-algorithms-in-python--ud513)\n",
    "- [Python Time Complexity (Official Docs)](https://wiki.python.org/moin/TimeComplexity)\n",
    "- [Big-O Cheat Sheet](https://www.bigocheatsheet.com/)\n",
    "\n",
    "*Note: Will add more learning resources once I feel comfortable with the first three.\n",
    "\n",
    "#### Potential future learning resources\n",
    "\n",
    "(MIT Courses, in order)\n",
    "- [Introduction to Computer Science and Programming in Python](https://ocw.mit.edu/courses/electrical-engineering-and-computer-science/6-0001-introduction-to-computer-science-and-programming-in-python-fall-2016/lecture-videos/)\n",
    "- [Mathematics for Computer Science](https://ocw.mit.edu/courses/electrical-engineering-and-computer-science/6-042j-mathematics-for-computer-science-fall-2010/video-lectures/)\n",
    "- [Introduction to Algorithms](https://www.youtube.com/playlist?list=PLUl4u3cNGP61Oq3tWYp6V_F-5jb5L2iHb)\n",
    "- [Design and Analysis of Algorithms](https://www.youtube.com/playlist?list=PLUl4u3cNGP6317WaSNfmCvGym2ucw3oGp)\n",
    "- [Advanced Algorithms](https://www.youtube.com/playlist?list=PL6ogFv-ieghdoGKGg2Bik3Gl1glBTEu8c)\n",
    "\n",
    "---\n",
    "\n",
    "### Machine requirements used\n",
    "\n",
    "- Python 3.10.0\n",
    "- VSCode\n",
    "- Windows 11"
   ]
  },
  {
   "cell_type": "code",
   "execution_count": 1,
   "metadata": {},
   "outputs": [
    {
     "name": "stdout",
     "output_type": "stream",
     "text": [
      "Hello, World!\n"
     ]
    }
   ],
   "source": [
    "print(\"Hello, World!\")"
   ]
  }
 ],
 "metadata": {
  "interpreter": {
   "hash": "2be5faf79681da6f2a61fdfdd5405d65d042280f7fba6178067603e3a2925119"
  },
  "kernelspec": {
   "display_name": "Python 3.10.0 64-bit",
   "language": "python",
   "name": "python3"
  },
  "language_info": {
   "codemirror_mode": {
    "name": "ipython",
    "version": 3
   },
   "file_extension": ".py",
   "mimetype": "text/x-python",
   "name": "python",
   "nbconvert_exporter": "python",
   "pygments_lexer": "ipython3",
   "version": "3.10.0"
  },
  "orig_nbformat": 4
 },
 "nbformat": 4,
 "nbformat_minor": 2
}
