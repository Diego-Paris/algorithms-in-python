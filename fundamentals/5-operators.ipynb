{
 "cells": [
  {
   "cell_type": "markdown",
   "metadata": {},
   "source": [
    "# Operators\n",
    "\n",
    "Operators are used to perform operations on variables and values.\n",
    "\n",
    "In the example below, we use the + operator to add together two values:"
   ]
  },
  {
   "cell_type": "markdown",
   "metadata": {},
   "source": [
    "---\n",
    "\n",
    "### Arithmetic Operators\n",
    "\n",
    "| Operator | Name           | Example |\n",
    "|----------|----------------|---------|\n",
    "| +        | Addition       | x + y   |\n",
    "| -        | Subtraction    | x - y   |\n",
    "| *        | Multiplication | x * y   |\n",
    "| /        | Division       | x / y   |\n",
    "| %        | Modulus        | x % y   |\n",
    "| **       | Exponentiation | x ** y  |\n",
    "| //       | Floor Division | x // y  |"
   ]
  },
  {
   "cell_type": "markdown",
   "metadata": {},
   "source": [
    "---\n",
    "\n",
    "### Assignment Operators\n",
    "\n",
    "| Operator | Example | Same As    |\n",
    "|----------|---------|------------|\n",
    "| =        | x = 5   | x = 5      |\n",
    "| +=       | x += 3  | x = x + 3  |\n",
    "| -=       | x -= 3  | x = x - 3  |\n",
    "| *=       | x *= 3  | x = x * 3  |\n",
    "| /=       | x /= 3  | x = x / 3  |\n",
    "| %=       | x %= 3  | x = x % 3  |\n",
    "| //=      | x //= 3 | x = x // 3 |\n",
    "| **=      | x **= 3 | x = x ** 3 |\n",
    "| &=       | x &= 3  | x = x & 3  |\n",
    "| \\|=      | x \\|= 3 | x = x \\| 3 |\n",
    "| ^=       | x ^= 3  | x = x ^ 3  |\n",
    "| >>=      | x >>= 3 | x = x >> 3 |\n",
    "| <<=      | x <<= 3 | x = x << 3 |"
   ]
  },
  {
   "cell_type": "markdown",
   "metadata": {},
   "source": [
    "---\n",
    "\n",
    "### Python Comparison Operators\n",
    "\n",
    "| Operator | Name                     | Example |\n",
    "|----------|--------------------------|---------|\n",
    "| ==       | Equal                    | x == y  |\n",
    "| !=       | Not equal                | x != y  |\n",
    "| >        | Greater than             | x > y   |\n",
    "| <        | Less than                | x < y   |\n",
    "| >=       | Greater than or equal to | x >= y  |\n",
    "| <=       | Less than or equal to    | x <= y  |"
   ]
  },
  {
   "cell_type": "markdown",
   "metadata": {},
   "source": [
    "---\n",
    "\n",
    "### Python Logical Operators\n",
    "\n",
    "| Operator | Description                                             | Example               |\n",
    "|----------|---------------------------------------------------------|-----------------------|\n",
    "| and      | Returns True if both statements are true                | x < 5 and  x < 10     |\n",
    "| or       | Returns True if one of the statements is true           | x < 5 or x < 4        |\n",
    "| not      | Reverse the result, returns False if the result is true | not(x < 5 and x < 10) |"
   ]
  },
  {
   "cell_type": "markdown",
   "metadata": {},
   "source": [
    "---\n",
    "\n",
    "### Python Identity Operators\n",
    "\n",
    "Identity operators are used to compare the objects, not if they are equal, but if they are actually the same object, with the same memory location:\n",
    "\n",
    "| Operator | Description                                            | Example    |\n",
    "|----------|--------------------------------------------------------|------------|\n",
    "| is       | Returns True if both variables are the same object     | x is y     |\n",
    "| is not   | Returns True if both variables are not the same object | x is not y |"
   ]
  },
  {
   "cell_type": "markdown",
   "metadata": {},
   "source": [
    "---\n",
    "\n",
    "### Python Membership Operators\n",
    "\n",
    "Membership operators are used to test if a sequence is presented in an object:\n",
    "\n",
    "| Operator | Description                                                                      | Example    | Try it   |\n",
    "|----------|----------------------------------------------------------------------------------|------------|----------|\n",
    "| in       | Returns True if a sequence with the specified value is present in the object     | x in y     | Try it » |\n",
    "| not in   | Returns True if a sequence with the specified value is not present in the object | x not in y |          |"
   ]
  },
  {
   "cell_type": "markdown",
   "metadata": {},
   "source": [
    "---\n",
    "\n",
    "### Python Bitwise Operators\n",
    "\n",
    "Bitwise operators are used to compare (binary) numbers:\n",
    "\n",
    "| Operator | Name                 | Description                                                                                             |\n",
    "|----------|----------------------|---------------------------------------------------------------------------------------------------------|\n",
    "| &        | AND                  | Sets each bit to 1 if both bits are 1                                                                   |\n",
    "| \\|       | OR                   | Sets each bit to 1 if one of two bits is 1                                                              |\n",
    "|  ^       | XOR                  | Sets each bit to 1 if only one of two bits is 1                                                         |\n",
    "| ~        | NOT                  | Inverts all the bits                                                                                    |\n",
    "| <<       | Zero fill left shift | Shift left by pushing zeros in from the right and let the leftmost bits fall off                        |\n",
    "| >>       | Signed right shift   | Shift right by pushing copies of the leftmost bit in from the left, and let the rightmost bits fall off |"
   ]
  }
 ],
 "metadata": {
  "language_info": {
   "name": "python"
  },
  "orig_nbformat": 4
 },
 "nbformat": 4,
 "nbformat_minor": 2
}
