{
 "cells": [
  {
   "cell_type": "markdown",
   "metadata": {},
   "source": [
    "# Stack\n",
    "\n",
    "---"
   ]
  },
  {
   "cell_type": "code",
   "execution_count": 10,
   "metadata": {},
   "outputs": [],
   "source": [
    "\"\"\"\n",
    "Stack Data Structure\n",
    "\"\"\"\n",
    "class Stack():\n",
    "    def __init__(self) -> None:\n",
    "        self.items = []\n",
    "\n",
    "    def push(self, item):\n",
    "        self.items.append(item)\n",
    "    \n",
    "    def pop(self):\n",
    "        return self.items.pop()\n",
    "    \n",
    "    def is_empty(self):\n",
    "        return len(self.items) == 0 \n",
    "\n",
    "    def peek(self):\n",
    "        if not self.is_empty():\n",
    "            return self.items[-1]\n",
    "\n",
    "    def get_stack(self):\n",
    "        return self.items\n",
    "\n",
    "    def __len__(self):\n",
    "        return len(self.items)\n",
    "    \n",
    "    "
   ]
  },
  {
   "cell_type": "markdown",
   "metadata": {},
   "source": [
    "Testing the stack"
   ]
  },
  {
   "cell_type": "code",
   "execution_count": 11,
   "metadata": {},
   "outputs": [
    {
     "name": "stdout",
     "output_type": "stream",
     "text": [
      "['A', 'B']\n",
      "['A', 'B', 'C']\n",
      "['A', 'B']\n",
      "False\n",
      "Y\n",
      "1\n"
     ]
    }
   ],
   "source": [
    "myStack = Stack()\n",
    "\n",
    "myStack.push(\"A\")\n",
    "myStack.push(\"B\")\n",
    "print(myStack.get_stack())\n",
    "myStack.push(\"C\")\n",
    "print(myStack.get_stack())\n",
    "myStack.pop()\n",
    "print(myStack.get_stack())\n",
    "myStack1 = Stack()\n",
    "myStack1.push(\"Y\")\n",
    "print(myStack1.is_empty())\n",
    "print(myStack1.peek())\n",
    "print(len(myStack1))"
   ]
  },
  {
   "cell_type": "code",
   "execution_count": 22,
   "metadata": {},
   "outputs": [
    {
     "name": "stdout",
     "output_type": "stream",
     "text": [
      "String : (((({})))) Balanced or not?\n",
      "True\n",
      "String : [][]]] Balanced or not?\n",
      "False\n",
      "String : [][] Balanced or not?\n",
      "True\n"
     ]
    }
   ],
   "source": [
    "def is_paren_balanced(paren_string):\n",
    "    stack = Stack()\n",
    "    opening = \"([{\"\n",
    "    closing = \")]}\"\n",
    "\n",
    "    for char in paren_string:\n",
    "        \n",
    "        # opening-case\n",
    "        openIdx = opening.find(char)\n",
    "\n",
    "        if openIdx > -1:\n",
    "            stack.push(char)\n",
    "            continue\n",
    "\n",
    "        # closing-case\n",
    "        closeIdx = closing.find(char)\n",
    "\n",
    "        if stack.is_empty() or stack.pop() != opening[closeIdx]:\n",
    "            return False\n",
    "    \n",
    "    return len(stack) == 0\n",
    "\n",
    "print(\"String : (((({})))) Balanced or not?\")\n",
    "print(is_paren_balanced(\"(((({}))))\"))\n",
    "\n",
    "print(\"String : [][]]] Balanced or not?\")\n",
    "print(is_paren_balanced(\"[][]]]\"))\n",
    "\n",
    "print(\"String : [][] Balanced or not?\")\n",
    "print(is_paren_balanced(\"[][]\"))"
   ]
  },
  {
   "cell_type": "code",
   "execution_count": 23,
   "metadata": {},
   "outputs": [
    {
     "name": "stdout",
     "output_type": "stream",
     "text": [
      "Welcome to Educative!\n"
     ]
    }
   ],
   "source": [
    "def reverse_string(input):\n",
    "    stack = Stack()\n",
    "    result = []\n",
    "\n",
    "    for char in input:\n",
    "        stack.push(char)\n",
    "    \n",
    "    while len(stack) > 0:\n",
    "        result.append(stack.pop())\n",
    "    \n",
    "    return \"\".join(result)\n",
    "\n",
    "input_str = \"!evitacudE ot emocleW\"\n",
    "print(reverse_string(input_str))"
   ]
  },
  {
   "cell_type": "code",
   "execution_count": 28,
   "metadata": {},
   "outputs": [
    {
     "name": "stdout",
     "output_type": "stream",
     "text": [
      "0\n"
     ]
    }
   ],
   "source": [
    "def convert_int_to_bin(dec_num):\n",
    "  \n",
    "  if dec_num == 0:\n",
    "      return \"0\"\n",
    "\n",
    "  s = Stack()\n",
    "  result = []\n",
    "\n",
    "  while dec_num > 0:\n",
    "\n",
    "    remainder = dec_num % 2\n",
    "    dec_num = dec_num // 2\n",
    "\n",
    "    s.push(remainder)\n",
    "\n",
    "  while not s.is_empty():\n",
    "    result.append(s.pop())\n",
    "\n",
    "  return \"\".join([str(num) for num in result])\n",
    "\n",
    "print(convert_int_to_bin(0))"
   ]
  }
 ],
 "metadata": {
  "interpreter": {
   "hash": "2be5faf79681da6f2a61fdfdd5405d65d042280f7fba6178067603e3a2925119"
  },
  "kernelspec": {
   "display_name": "Python 3.10.0 64-bit",
   "language": "python",
   "name": "python3"
  },
  "language_info": {
   "codemirror_mode": {
    "name": "ipython",
    "version": 3
   },
   "file_extension": ".py",
   "mimetype": "text/x-python",
   "name": "python",
   "nbconvert_exporter": "python",
   "pygments_lexer": "ipython3",
   "version": "3.10.0"
  },
  "orig_nbformat": 4
 },
 "nbformat": 4,
 "nbformat_minor": 2
}
